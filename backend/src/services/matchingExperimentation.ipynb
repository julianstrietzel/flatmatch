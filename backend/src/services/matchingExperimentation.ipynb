{
 "cells": [
  {
   "metadata": {
    "ExecuteTime": {
     "end_time": "2024-06-09T12:05:00.438431Z",
     "start_time": "2024-06-09T12:05:00.427738Z"
    }
   },
   "cell_type": "code",
   "source": [
    "# Mocking tenantProfiles\n",
    "tenant_profiles = [\n",
    "    {\n",
    "        \"_id\": \"11\",\n",
    "        \"name\": \"Tenant 1\",\n",
    "        \"description\": \"This is tenant 1\",\n",
    "        \"tags\": [\"tag1\", \"tag2\"],\n",
    "        \"requirements\": [\n",
    "            {\n",
    "                \"reqKey\": \"flattag3\",\n",
    "                \"weight\": 1\n",
    "            },\n",
    "            {\n",
    "                \"reqKey\": \"flattag4\",\n",
    "                \"weight\": 2\n",
    "            }\n",
    "        ],\n",
    "        \"images\": [\"image1.jpg\", \"image2.jpg\"],\n",
    "        \"liked\": [\"f11\"],\n",
    "        \"disliked\": [\"f22\", \"f33\"],\n",
    "    },{\n",
    "        \"_id\": \"22\",\n",
    "        \"name\": \"Tenant 1\",\n",
    "        \"description\": \"This is tenant 1\",\n",
    "        \"tags\": [\"tag1\", \"tag2\"],\n",
    "        \"requirements\": [\n",
    "            {\n",
    "                \"reqKey\": \"flattag1\",\n",
    "                \"weight\": 1\n",
    "            },\n",
    "            {\n",
    "                \"reqKey\": \"flattag2\",\n",
    "                \"weight\": 2\n",
    "            }\n",
    "        ],\n",
    "        \"images\": [\"image1.jpg\", \"image2.jpg\"],\n",
    "        \"liked\": [],\n",
    "        \"disliked\": [\"f11\",\"f33\"],\n",
    "    },{\n",
    "        \"_id\": \"33\",\n",
    "        \"name\": \"Tenant 1\",\n",
    "        \"description\": \"This is tenant 1\",\n",
    "        \"tags\": [\"tag1\", \"tag2\"],\n",
    "        \"requirements\": [\n",
    "            {\n",
    "                \"reqKey\": \"flattag1\",\n",
    "                \"weight\": 1\n",
    "            },\n",
    "            {\n",
    "                \"reqKey\": \"flattag2\",\n",
    "                \"weight\": 2\n",
    "            }\n",
    "        ],\n",
    "        \"images\": [\"image1.jpg\", \"image2.jpg\"],\n",
    "        \"liked\": [],\n",
    "        \"disliked\": [],\n",
    "    },{\n",
    "        \"_id\": \"44\",\n",
    "        \"name\": \"Tenant 1\",\n",
    "        \"description\": \"This is tenant 1\",\n",
    "        \"tags\": [\"tag1\", \"tag2\"],\n",
    "        \"requirements\": [\n",
    "            {\n",
    "                \"reqKey\": \"flattag1\",\n",
    "                \"weight\": 1\n",
    "            },\n",
    "            {\n",
    "                \"reqKey\": \"flattag2\",\n",
    "                \"weight\": 2\n",
    "            }\n",
    "        ],\n",
    "        \"images\": [\"image1.jpg\", \"image2.jpg\"],\n",
    "        \"liked\": [],\n",
    "        \"disliked\": [],\n",
    "    },{\n",
    "        \"_id\": \"55\",\n",
    "        \"name\": \"Tenant 1\",\n",
    "        \"description\": \"This is tenant 1\",\n",
    "        \"tags\": [\"tag3\", \"tag4\"],\n",
    "        \"requirements\": [\n",
    "            {\n",
    "                \"reqKey\": \"flattag3\",\n",
    "                \"weight\": 1\n",
    "            },\n",
    "            {\n",
    "                \"reqKey\": \"flattag4\",\n",
    "                \"weight\": 2\n",
    "            }\n",
    "        ],\n",
    "        \"images\": [\"image1.jpg\", \"image2.jpg\"],\n",
    "        \"liked\": [],\n",
    "        \"disliked\": [],\n",
    "    },\n",
    "    # Add more tenant profiles as needed\n",
    "]\n",
    "\n",
    "# Mocking flatProfiles\n",
    "flat_profiles = [\n",
    "    {\n",
    "        \"_id\": \"f11\",\n",
    "        \"name\": \"Flat 1\",\n",
    "        \"description\": \"This is flat 1\",\n",
    "        \"tags\": [\"flattag3\", \"flattag4\"],\n",
    "        \"requirements\": [\n",
    "            {\n",
    "                \"reqKey\": \"tag3\",\n",
    "                \"weight\": 1\n",
    "            },\n",
    "            {\n",
    "                \"reqKey\": \"tag4\",\n",
    "                \"weight\": 2\n",
    "            }\n",
    "        ],\n",
    "        \"address\": \"123 Street, City, Country\",\n",
    "        \"price\": 1000,\n",
    "        \"size\": 100,\n",
    "        \"type\": \"apartment\",\n",
    "        \"images\": [\"image1.jpg\", \"image2.jpg\"],\n",
    "        \"approved\": [\"11\"],\n",
    "        \"disapproved\": [\"22\", \"55\"],\n",
    "    },{\n",
    "        \"_id\": \"f22\",\n",
    "        \"name\": \"Flat 1\",\n",
    "        \"description\": \"This is flat 1\",\n",
    "        \"tags\": [\"flattag1\", \"flattag2\"],\n",
    "        \"requirements\": [\n",
    "            {\n",
    "                \"reqKey\": \"tag1\",\n",
    "                \"weight\": 1\n",
    "            },\n",
    "            {\n",
    "                \"reqKey\": \"tag2\",\n",
    "                \"weight\": 2\n",
    "            }\n",
    "        ],\n",
    "        \"address\": \"123 Street, City, Country\",\n",
    "        \"price\": 1000,\n",
    "        \"size\": 100,\n",
    "        \"type\": \"apartment\",\n",
    "        \"images\": [\"image1.jpg\", \"image2.jpg\"],\n",
    "        \"approved\": [],\n",
    "        \"disapproved\": [],\n",
    "    },{\n",
    "        \"_id\": \"f33\",\n",
    "        \"name\": \"Flat 1\",\n",
    "        \"description\": \"This is flat 1\",\n",
    "        \"tags\": [\"flattag1\", \"flattag2\"],\n",
    "        \"requirements\": [\n",
    "            {\n",
    "                \"reqKey\": \"tag1\",\n",
    "                \"weight\": 1\n",
    "            },\n",
    "            {\n",
    "                \"reqKey\": \"tag2\",\n",
    "                \"weight\": 2\n",
    "            }\n",
    "        ],\n",
    "        \"address\": \"123 Street, City, Country\",\n",
    "        \"price\": 1000,\n",
    "        \"size\": 100,\n",
    "        \"type\": \"apartment\",\n",
    "        \"images\": [\"image1.jpg\", \"image2.jpg\"],\n",
    "        \"approved\": [],\n",
    "        \"disapproved\": [],\n",
    "    }\n",
    "    # Add more flat profiles as needed\n",
    "]"
   ],
   "id": "fcb23bac5def36cb",
   "outputs": [],
   "execution_count": 145
  },
  {
   "metadata": {
    "ExecuteTime": {
     "end_time": "2024-06-09T12:05:01.726150Z",
     "start_time": "2024-06-09T12:05:01.718654Z"
    }
   },
   "cell_type": "code",
   "source": [
    "available_flat_tags = [\"flattag1\", \"flattag2\", \"flattag3\", \"flattag4\"]\n",
    "available_tenant_tags = [\"tag1\", \"tag2\", \"tag3\", \"tag4\", \"tag5\", \"tag6\", \"tag7\"]\n",
    "\n",
    "flat_tag_mapping = {tag: index for index, tag in enumerate(available_flat_tags)}\n",
    "tenant_tag_mapping = {tag: index for index, tag in enumerate(available_tenant_tags)}\n",
    "\n",
    "beta = 0.3 # factor to control the importance of requirements of the other party"
   ],
   "id": "96c864d85514631b",
   "outputs": [],
   "execution_count": 146
  },
  {
   "metadata": {
    "ExecuteTime": {
     "end_time": "2024-06-09T12:05:02.224214Z",
     "start_time": "2024-06-09T12:05:02.220573Z"
    }
   },
   "cell_type": "code",
   "source": [
    "flat_index_mapping = {flat[\"_id\"]: index for index, flat in enumerate(flat_profiles)}\n",
    "tenant_index_mapping = {tenant[\"_id\"]: index for index, tenant in enumerate(tenant_profiles)}"
   ],
   "id": "e6ed33949a26165",
   "outputs": [],
   "execution_count": 147
  },
  {
   "metadata": {
    "ExecuteTime": {
     "end_time": "2024-06-09T12:22:07.619383Z",
     "start_time": "2024-06-09T12:22:07.615061Z"
    }
   },
   "cell_type": "code",
   "source": [
    "import numpy as np\n",
    "\n",
    "flat_tag_matrix = np.zeros((len(flat_profiles), len(available_flat_tags)))\n",
    "tenant_tag_matrix = np.zeros((len(tenant_profiles), len(available_tenant_tags)))\n",
    "\n",
    "for index, flat in enumerate(flat_profiles):\n",
    "    for tag in flat[\"tags\"]:\n",
    "        flat_tag_matrix[index, flat_tag_mapping[tag]] = 1\n",
    "        \n",
    "for index, tenant in enumerate(tenant_profiles):\n",
    "    for tag in tenant[\"tags\"]:\n",
    "        tenant_tag_matrix[index, tenant_tag_mapping[tag]] = 1\n",
    "\n"
   ],
   "id": "b8d7357355471c28",
   "outputs": [],
   "execution_count": 172
  },
  {
   "metadata": {
    "ExecuteTime": {
     "end_time": "2024-06-09T12:05:02.479514Z",
     "start_time": "2024-06-09T12:05:02.471954Z"
    }
   },
   "cell_type": "code",
   "source": "print (flat_tag_matrix)",
   "id": "28543ac2080c141f",
   "outputs": [
    {
     "name": "stdout",
     "output_type": "stream",
     "text": [
      "[[0. 0. 1. 1.]\n",
      " [1. 1. 0. 0.]\n",
      " [1. 1. 0. 0.]]\n"
     ]
    }
   ],
   "execution_count": 149
  },
  {
   "metadata": {
    "ExecuteTime": {
     "end_time": "2024-06-09T12:05:02.540345Z",
     "start_time": "2024-06-09T12:05:02.535714Z"
    }
   },
   "cell_type": "code",
   "source": [
    "flat_requirements = np.zeros((len(flat_profiles), len(available_tenant_tags)))\n",
    "tenant_requirements = np.zeros((len(tenant_profiles), len(available_flat_tags)))\n",
    "\n",
    "for index, flat in enumerate(flat_profiles):\n",
    "    for req in flat[\"requirements\"]:\n",
    "        flat_requirements[index, tenant_tag_mapping[req[\"reqKey\"]]] = req[\"weight\"]\n",
    "\n",
    "for index, tenant in enumerate(tenant_profiles):\n",
    "    for req in tenant[\"requirements\"]:\n",
    "        tenant_requirements[index, flat_tag_mapping[req[\"reqKey\"]]] = req[\"weight\"]\n"
   ],
   "id": "7d69a24bbe3daf4",
   "outputs": [],
   "execution_count": 150
  },
  {
   "metadata": {
    "ExecuteTime": {
     "end_time": "2024-06-09T12:05:02.612899Z",
     "start_time": "2024-06-09T12:05:02.609211Z"
    }
   },
   "cell_type": "code",
   "source": "print (flat_requirements)",
   "id": "cc8eb3fac3401218",
   "outputs": [
    {
     "name": "stdout",
     "output_type": "stream",
     "text": [
      "[[0. 0. 1. 2. 0. 0. 0.]\n",
      " [1. 2. 0. 0. 0. 0. 0.]\n",
      " [1. 2. 0. 0. 0. 0. 0.]]\n"
     ]
    }
   ],
   "execution_count": 151
  },
  {
   "metadata": {
    "ExecuteTime": {
     "end_time": "2024-06-09T12:05:02.674812Z",
     "start_time": "2024-06-09T12:05:02.671713Z"
    }
   },
   "cell_type": "code",
   "source": [
    "match_flats_to_tenant_requirements = np.dot(flat_tag_matrix, tenant_requirements.T).T\n",
    "match_tenants_to_flat_requirements = np.dot(tenant_tag_matrix, flat_requirements.T).T\n",
    "\n",
    "def update_rankings():\n",
    "    match_flats_to_tenant_requirements = np.dot(flat_tag_matrix, tenant_requirements.T).T\n",
    "    match_tenants_to_flat_requirements = np.dot(tenant_tag_matrix, flat_requirements.T).T\n",
    "    flat_ranking = match_flats_to_tenant_requirements + beta * match_tenants_to_flat_requirements.T\n",
    "    tenant_ranking = match_tenants_to_flat_requirements + beta * match_flats_to_tenant_requirements.T"
   ],
   "id": "963c76d84bbf912c",
   "outputs": [],
   "execution_count": 152
  },
  {
   "metadata": {
    "ExecuteTime": {
     "end_time": "2024-06-09T12:05:03.990085Z",
     "start_time": "2024-06-09T12:05:03.977225Z"
    }
   },
   "cell_type": "code",
   "source": "match_flats_to_tenant_requirements # tenant -> flat",
   "id": "451cbfa291d8d515",
   "outputs": [
    {
     "data": {
      "text/plain": [
       "array([[3., 0., 0.],\n",
       "       [0., 3., 3.],\n",
       "       [0., 3., 3.],\n",
       "       [0., 3., 3.],\n",
       "       [3., 0., 0.]])"
      ]
     },
     "execution_count": 153,
     "metadata": {},
     "output_type": "execute_result"
    }
   ],
   "execution_count": 153
  },
  {
   "metadata": {
    "ExecuteTime": {
     "end_time": "2024-06-09T12:05:04.177305Z",
     "start_time": "2024-06-09T12:05:04.171902Z"
    }
   },
   "cell_type": "code",
   "source": "match_tenants_to_flat_requirements # flat -> tenant",
   "id": "11aa113b755559b4",
   "outputs": [
    {
     "data": {
      "text/plain": [
       "array([[0., 0., 0., 0., 3.],\n",
       "       [3., 3., 3., 3., 0.],\n",
       "       [3., 3., 3., 3., 0.]])"
      ]
     },
     "execution_count": 154,
     "metadata": {},
     "output_type": "execute_result"
    }
   ],
   "execution_count": 154
  },
  {
   "metadata": {
    "ExecuteTime": {
     "end_time": "2024-06-09T12:05:04.408693Z",
     "start_time": "2024-06-09T12:05:04.405745Z"
    }
   },
   "cell_type": "code",
   "source": [
    "flat_ranking = match_flats_to_tenant_requirements + beta * match_tenants_to_flat_requirements.T\n",
    "tenant_ranking = match_tenants_to_flat_requirements + beta * match_flats_to_tenant_requirements.T"
   ],
   "id": "4fa3fa20b2d8b2dd",
   "outputs": [],
   "execution_count": 155
  },
  {
   "metadata": {
    "ExecuteTime": {
     "end_time": "2024-06-09T12:05:04.516459Z",
     "start_time": "2024-06-09T12:05:04.512112Z"
    }
   },
   "cell_type": "code",
   "source": "flat_ranking",
   "id": "5f1d3ec489236965",
   "outputs": [
    {
     "data": {
      "text/plain": [
       "array([[3. , 0.9, 0.9],\n",
       "       [0. , 3.9, 3.9],\n",
       "       [0. , 3.9, 3.9],\n",
       "       [0. , 3.9, 3.9],\n",
       "       [3.9, 0. , 0. ]])"
      ]
     },
     "execution_count": 156,
     "metadata": {},
     "output_type": "execute_result"
    }
   ],
   "execution_count": 156
  },
  {
   "metadata": {
    "ExecuteTime": {
     "end_time": "2024-06-09T12:05:06.398445Z",
     "start_time": "2024-06-09T12:05:06.392794Z"
    }
   },
   "cell_type": "code",
   "source": "tenant_ranking",
   "id": "470e42b80bb2e228",
   "outputs": [
    {
     "data": {
      "text/plain": [
       "array([[0.9, 0. , 0. , 0. , 3.9],\n",
       "       [3. , 3.9, 3.9, 3.9, 0. ],\n",
       "       [3. , 3.9, 3.9, 3.9, 0. ]])"
      ]
     },
     "execution_count": 157,
     "metadata": {},
     "output_type": "execute_result"
    }
   ],
   "execution_count": 157
  },
  {
   "metadata": {
    "ExecuteTime": {
     "end_time": "2024-06-09T12:05:07.148466Z",
     "start_time": "2024-06-09T12:05:07.143719Z"
    }
   },
   "cell_type": "code",
   "source": [
    "def get_best_flat_ids(tenant_id, n=10):\n",
    "    indices = np.argsort(flat_ranking[tenant_index_mapping[tenant_id]])[::-1]\n",
    "    return [flat_profiles[index][\"_id\"] for index in indices[:n]]\n",
    "\n",
    "def get_best_tenants_ids(flat_id, n=10):\n",
    "    indices = np.argsort(tenant_ranking[flat_index_mapping[flat_id]])[::-1]\n",
    "    return [tenant_profiles[index][\"_id\"] for index in indices[:n]]\n",
    "\n"
   ],
   "id": "b3513061c9f3619d",
   "outputs": [],
   "execution_count": 158
  },
  {
   "metadata": {
    "ExecuteTime": {
     "end_time": "2024-06-09T12:05:07.524998Z",
     "start_time": "2024-06-09T12:05:07.511884Z"
    }
   },
   "cell_type": "code",
   "source": "get_best_flat_ids(\"11\")",
   "id": "2d25a204b74842e5",
   "outputs": [
    {
     "data": {
      "text/plain": [
       "['f11', 'f33', 'f22']"
      ]
     },
     "execution_count": 159,
     "metadata": {},
     "output_type": "execute_result"
    }
   ],
   "execution_count": 159
  },
  {
   "metadata": {
    "ExecuteTime": {
     "end_time": "2024-06-09T12:05:27.935084Z",
     "start_time": "2024-06-09T12:05:27.930351Z"
    }
   },
   "cell_type": "code",
   "source": "get_best_tenants_ids(\"f11\")",
   "id": "5a0dfe8093f13923",
   "outputs": [
    {
     "data": {
      "text/plain": [
       "['55', '11', '44', '33', '22']"
      ]
     },
     "execution_count": 165,
     "metadata": {},
     "output_type": "execute_result"
    }
   ],
   "execution_count": 165
  },
  {
   "metadata": {},
   "cell_type": "markdown",
   "source": "## Filter and remove already liked, disliked and matched profiles",
   "id": "72c2b1dede3392e4"
  },
  {
   "metadata": {
    "ExecuteTime": {
     "end_time": "2024-06-09T12:05:09.282690Z",
     "start_time": "2024-06-09T12:05:09.278574Z"
    }
   },
   "cell_type": "code",
   "source": [
    "# Mocking liked, disliked and matched profiles\n",
    "\n",
    "liked_flats = np.zeros((len(tenant_profiles), len(flat_profiles)), dtype=bool)\n",
    "disliked_flats = np.zeros((len(tenant_profiles), len(flat_profiles)), dtype=bool)\n",
    "\n",
    "for tenant_index, tenant in enumerate(tenant_profiles):\n",
    "    for flat_id in tenant[\"liked\"]:\n",
    "        liked_flats[tenant_index, flat_index_mapping[flat_id]] = True\n",
    "    for flat_id in tenant[\"disliked\"]:\n",
    "        disliked_flats[tenant_index, flat_index_mapping[flat_id]] = True"
   ],
   "id": "cd1773f44043151d",
   "outputs": [],
   "execution_count": 160
  },
  {
   "metadata": {
    "ExecuteTime": {
     "end_time": "2024-06-09T12:05:09.703241Z",
     "start_time": "2024-06-09T12:05:09.699262Z"
    }
   },
   "cell_type": "code",
   "source": "liked_flats",
   "id": "79263e3f8f61ceb4",
   "outputs": [
    {
     "data": {
      "text/plain": [
       "array([[ True, False, False],\n",
       "       [False, False, False],\n",
       "       [False, False, False],\n",
       "       [False, False, False],\n",
       "       [False, False, False]])"
      ]
     },
     "execution_count": 161,
     "metadata": {},
     "output_type": "execute_result"
    }
   ],
   "execution_count": 161
  },
  {
   "metadata": {
    "ExecuteTime": {
     "end_time": "2024-06-09T12:05:11.206124Z",
     "start_time": "2024-06-09T12:05:11.201026Z"
    }
   },
   "cell_type": "code",
   "source": "disliked_flats",
   "id": "d82a992ac94c773",
   "outputs": [
    {
     "data": {
      "text/plain": [
       "array([[False,  True,  True],\n",
       "       [ True, False,  True],\n",
       "       [False, False, False],\n",
       "       [False, False, False],\n",
       "       [False, False, False]])"
      ]
     },
     "execution_count": 162,
     "metadata": {},
     "output_type": "execute_result"
    }
   ],
   "execution_count": 162
  },
  {
   "metadata": {
    "ExecuteTime": {
     "end_time": "2024-06-09T12:05:12.126376Z",
     "start_time": "2024-06-09T12:05:12.121152Z"
    }
   },
   "cell_type": "code",
   "source": [
    "def get_liked_best_tenants_ids(flat_id, n=3):\n",
    "    indices = np.argsort(tenant_ranking[flat_index_mapping[flat_id]] * liked_flats[:, flat_index_mapping[flat_id]])[::-1]\n",
    "    disapproved_tenants = flat_profiles[flat_index_mapping[flat_id]][\"disapproved\"]\n",
    "    best_tenants = []\n",
    "    for index in indices:\n",
    "        if tenant_profiles[index][\"_id\"] not in disapproved_tenants:\n",
    "            best_tenants.append(tenant_profiles[index][\"_id\"])\n",
    "    return best_tenants[:n]"
   ],
   "id": "3c9b375751ead22e",
   "outputs": [],
   "execution_count": 163
  },
  {
   "metadata": {
    "ExecuteTime": {
     "end_time": "2024-06-09T12:05:13.184965Z",
     "start_time": "2024-06-09T12:05:13.178350Z"
    }
   },
   "cell_type": "code",
   "source": "get_liked_best_tenants_ids(\"f11\")",
   "id": "e3b2756d3d83309a",
   "outputs": [
    {
     "data": {
      "text/plain": [
       "['11', '44', '33']"
      ]
     },
     "execution_count": 164,
     "metadata": {},
     "output_type": "execute_result"
    }
   ],
   "execution_count": 164
  },
  {
   "metadata": {
    "ExecuteTime": {
     "end_time": "2024-06-09T12:07:29.837593Z",
     "start_time": "2024-06-09T12:07:29.833857Z"
    }
   },
   "cell_type": "code",
   "source": [
    "def get_unseen_flat_ids(tenant_id, n=10):\n",
    "    indices = np.argsort(flat_ranking[tenant_index_mapping[tenant_id]] * np.logical_not(liked_flats[tenant_index_mapping[tenant_id]]) * np.logical_not(disliked_flats[tenant_index_mapping[tenant_id]]))[::-1]\n",
    "    return [flat_profiles[index][\"_id\"] for index in indices[:n]]"
   ],
   "id": "b2bd416b98ae85dd",
   "outputs": [],
   "execution_count": 166
  },
  {
   "metadata": {
    "ExecuteTime": {
     "end_time": "2024-06-09T12:07:43.984725Z",
     "start_time": "2024-06-09T12:07:43.980517Z"
    }
   },
   "cell_type": "code",
   "source": "get_unseen_flat_ids(\"11\")",
   "id": "995f898971574d43",
   "outputs": [
    {
     "data": {
      "text/plain": [
       "['f33', 'f22', 'f11']"
      ]
     },
     "execution_count": 167,
     "metadata": {},
     "output_type": "execute_result"
    }
   ],
   "execution_count": 167
  },
  {
   "metadata": {
    "ExecuteTime": {
     "end_time": "2024-06-09T12:15:39.993498Z",
     "start_time": "2024-06-09T12:15:39.986542Z"
    }
   },
   "cell_type": "code",
   "source": [
    "def like_flat(tenant_id, flat_id):\n",
    "    liked_flats[tenant_index_mapping[tenant_id], flat_index_mapping[flat_id]] = True\n",
    "    tenant_profiles[tenant_index_mapping[tenant_id]][\"liked\"].append(flat_id)\n",
    "    if flat_id in tenant_profiles[tenant_index_mapping[tenant_id]][\"disliked\"]:\n",
    "        tenant_profiles[tenant_index_mapping[tenant_id]][\"disliked\"].remove(flat_id)\n",
    "    \n",
    "def dislike_flat(tenant_id, flat_id):\n",
    "    disliked_flats[tenant_index_mapping[tenant_id], flat_index_mapping[flat_id]] = True\n",
    "    tenant_profiles[tenant_index_mapping[tenant_id]][\"disliked\"].append(flat_id)\n",
    "    if flat_id in tenant_profiles[tenant_index_mapping[tenant_id]][\"liked\"]:\n",
    "        tenant_profiles[tenant_index_mapping[tenant_id]][\"liked\"].remove(flat_id)\n",
    "    \n",
    "def approve_flat(flat_id, tenant_id):\n",
    "    if tenant_id not in flat_profiles[flat_index_mapping[flat_id]][\"liked\"]:\n",
    "        flat_profiles[flat_index_mapping[flat_id]][\"approved\"].append(tenant_id)\n",
    "    if tenant_id in flat_profiles[flat_index_mapping[flat_id]][\"disapproved\"]:\n",
    "        flat_profiles[flat_index_mapping[flat_id]][\"disapproved\"].remove(tenant_id)\n",
    "    \n",
    "def disapprove_flat(flat_id, tenant_id):\n",
    "    if tenant_id not in flat_profiles[flat_index_mapping[flat_id]][\"disliked\"]:\n",
    "        flat_profiles[flat_index_mapping[flat_id]][\"disapproved\"].append(tenant_id)\n",
    "    if tenant_id in flat_profiles[flat_index_mapping[flat_id]][\"approved\"]:\n",
    "        flat_profiles[flat_index_mapping[flat_id]][\"approved\"].remove(tenant_id)"
   ],
   "id": "dc57185cb1a556b3",
   "outputs": [],
   "execution_count": 171
  },
  {
   "metadata": {
    "ExecuteTime": {
     "end_time": "2024-06-09T12:13:28.259068Z",
     "start_time": "2024-06-09T12:13:28.256067Z"
    }
   },
   "cell_type": "code",
   "source": "like_flat(\"11\", \"f22\")",
   "id": "41390b410869c87c",
   "outputs": [],
   "execution_count": 169
  },
  {
   "metadata": {
    "ExecuteTime": {
     "end_time": "2024-06-09T12:13:34.180629Z",
     "start_time": "2024-06-09T12:13:34.176348Z"
    }
   },
   "cell_type": "code",
   "source": "get_unseen_flat_ids(\"11\")",
   "id": "55a690e9270a8609",
   "outputs": [
    {
     "data": {
      "text/plain": [
       "['f33', 'f22', 'f11']"
      ]
     },
     "execution_count": 170,
     "metadata": {},
     "output_type": "execute_result"
    }
   ],
   "execution_count": 170
  },
  {
   "metadata": {
    "ExecuteTime": {
     "end_time": "2024-06-09T12:22:24.324384Z",
     "start_time": "2024-06-09T12:22:24.318389Z"
    }
   },
   "cell_type": "code",
   "source": [
    "def add_flat(flat):\n",
    "    flat_profiles.append(flat)\n",
    "    flat_index_mapping[flat[\"_id\"]] = len(flat_profiles) - 1\n",
    "    flat_tag_matrix = np.vstack((flat_tag_matrix, np.zeros((1, len(available_flat_tags)))))\n",
    "    for tag in flat[\"tags\"]:\n",
    "        flat_tag_matrix[-1, flat_tag_mapping[tag]] = 1\n",
    "    flat_requirements = np.vstack((flat_requirements, np.zeros((1, len(available_tenant_tags)))))\n",
    "    for req in flat[\"requirements\"]:\n",
    "        flat_requirements[-1, tenant_tag_mapping[req[\"reqKey\"]]] = req[\"weight\"]\n",
    "    update_rankings()\n",
    "    # TODO update rankings more efficiently using only the newly added flat\n",
    "\n",
    "def add_tenant(tenant):\n",
    "    tenant_profiles.append(tenant)\n",
    "    tenant_index_mapping[tenant[\"_id\"]] = len(tenant_profiles) - 1\n",
    "    tenant_tag_matrix = np.vstack((tenant_tag_matrix, np.zeros((1, len(available_tenant_tags)))))\n",
    "    for tag in tenant[\"tags\"]:\n",
    "        tenant_tag_matrix[-1, tenant_tag_mapping[tag]] = 1\n",
    "    tenant_requirements = np.vstack((tenant_requirements, np.zeros((1, len(available_flat_tags)))))\n",
    "    for req in tenant[\"requirements\"]:\n",
    "        tenant_requirements[-1, flat_tag_mapping[req[\"reqKey\"]]] = req[\"weight\"]\n",
    "    update_rankings()\n",
    "    # TODO update rankings more efficiently using only the newly added tenant\n",
    "    "
   ],
   "id": "9393f4c29e011e8",
   "outputs": [],
   "execution_count": 174
  },
  {
   "metadata": {},
   "cell_type": "code",
   "outputs": [],
   "execution_count": null,
   "source": "",
   "id": "dbc455c0918c9744"
  }
 ],
 "metadata": {
  "kernelspec": {
   "display_name": "Python 3",
   "language": "python",
   "name": "python3"
  },
  "language_info": {
   "codemirror_mode": {
    "name": "ipython",
    "version": 2
   },
   "file_extension": ".py",
   "mimetype": "text/x-python",
   "name": "python",
   "nbconvert_exporter": "python",
   "pygments_lexer": "ipython2",
   "version": "2.7.6"
  }
 },
 "nbformat": 4,
 "nbformat_minor": 5
}
